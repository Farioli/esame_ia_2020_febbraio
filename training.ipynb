{
 "cells": [
  {
   "cell_type": "markdown",
   "id": "monetary-giant",
   "metadata": {},
   "source": [
    "# Notebook per addestrare il classificatore\n",
    "\n",
    "### Contesto\n",
    " Il dataset consiste in dati di collocamento nel mondo del lavoro da parte di studenti in un campus.\n",
    " Include dati sull'istruzione superiore, come specializzazione e punteggi. \n",
    " Include anche dati sull'esperienza lavorativa e sulle offerte attese al primo impiego.\n",
    "\n",
    "#### Obiettivo\n",
    " Addestrare un classificatore che, dato un candidato, preveda il piazzamento o meno. \n",
    " In altre parole, individuate i fattori che contribuiscono al collocamento nel mondo del lavoro."
   ]
  },
  {
   "cell_type": "code",
   "execution_count": 1871,
   "id": "intended-truth",
   "metadata": {},
   "outputs": [],
   "source": [
    "# Import delle librerie e dei moduli utilizzati per l'addestramento\n",
    "\n",
    "# Per la gestione dei dati\n",
    "import numpy as np\n",
    "import pandas as pd\n",
    "\n",
    "# Disabilito questa opzione di pandas per evitare un warning bloccante ma non necessario durante il label encoding\n",
    "pd.options.mode.chained_assignment = None  # default='warn'\n",
    "\n",
    "# Importo Sklearn per gli strumenti necessari all'addestramento:\n",
    "\n",
    "# Per pulire le variabili categoriche\n",
    "from sklearn.preprocessing import LabelEncoder \n",
    "\n",
    "# Import del modello da addestrare\n",
    "from sklearn.linear_model import LogisticRegression\n",
    "\n",
    "# Per la valutazione del modello \n",
    "from sklearn.metrics import accuracy_score #"
   ]
  },
  {
   "cell_type": "markdown",
   "id": "descending-schedule",
   "metadata": {},
   "source": [
    "### Dataset\n",
    "\n",
    "Il dataset contiene le caratteristiche di 173 studenti. \n",
    "La più importante è 'status', che assume solo valori 'Placed'/'Not Placed', ossia se lo studente abbia trovato collocazione nel suo primo anno.\n",
    "\n",
    "- status - Collocato sì o no.\n",
    "- gender - Maschio o Femmina\n",
    "- ssc_p - Punteggio di scuola media\n",
    "- ssc_b - Board of Education per le medie\n",
    "- hsc_p - Punteggio di diploma\n",
    "- hsc_b - Board of Education per il diploma\n",
    "- hsc_s - Tipologia di liceo\n",
    "- degree_p - Punteggio di laurea\n",
    "- degree_t - Settore disciplinare della laurea\n",
    "- workex - Esperienza lavorativa\n",
    "- etest_p - Punteggio test di collocabilità (condotto dal college)\n",
    "- specialisation - Specializzazione post laurea (MBA)\n",
    "- mba_p - Punteggio MBA\n",
    "- salary - Stipendio offerto dalla compagnia ai candidati."
   ]
  },
  {
   "cell_type": "markdown",
   "id": "nasty-audience",
   "metadata": {},
   "source": [
    "## Data Loading"
   ]
  },
  {
   "cell_type": "code",
   "execution_count": 1872,
   "id": "selective-stereo",
   "metadata": {},
   "outputs": [],
   "source": [
    "# Carico i dati dal csv relativo ai dati di training creato durante la fase di preparazione\n",
    "training_dataset = pd.read_csv('train.csv')"
   ]
  },
  {
   "cell_type": "code",
   "execution_count": 1873,
   "id": "constitutional-gallery",
   "metadata": {},
   "outputs": [
    {
     "data": {
      "text/html": [
       "<div>\n",
       "<style scoped>\n",
       "    .dataframe tbody tr th:only-of-type {\n",
       "        vertical-align: middle;\n",
       "    }\n",
       "\n",
       "    .dataframe tbody tr th {\n",
       "        vertical-align: top;\n",
       "    }\n",
       "\n",
       "    .dataframe thead th {\n",
       "        text-align: right;\n",
       "    }\n",
       "</style>\n",
       "<table border=\"1\" class=\"dataframe\">\n",
       "  <thead>\n",
       "    <tr style=\"text-align: right;\">\n",
       "      <th></th>\n",
       "      <th>gender</th>\n",
       "      <th>ssc_p</th>\n",
       "      <th>ssc_b</th>\n",
       "      <th>hsc_p</th>\n",
       "      <th>hsc_b</th>\n",
       "      <th>hsc_s</th>\n",
       "      <th>degree_p</th>\n",
       "      <th>degree_t</th>\n",
       "      <th>workex</th>\n",
       "      <th>etest_p</th>\n",
       "      <th>specialisation</th>\n",
       "      <th>mba_p</th>\n",
       "      <th>salary</th>\n",
       "      <th>status</th>\n",
       "    </tr>\n",
       "  </thead>\n",
       "  <tbody>\n",
       "    <tr>\n",
       "      <th>0</th>\n",
       "      <td>M</td>\n",
       "      <td>77.67</td>\n",
       "      <td>Others</td>\n",
       "      <td>64.89</td>\n",
       "      <td>Others</td>\n",
       "      <td>Commerce</td>\n",
       "      <td>70.67</td>\n",
       "      <td>Comm&amp;Mgmt</td>\n",
       "      <td>No</td>\n",
       "      <td>89.0</td>\n",
       "      <td>Mkt&amp;Fin</td>\n",
       "      <td>60.39</td>\n",
       "      <td>300000.0</td>\n",
       "      <td>Placed</td>\n",
       "    </tr>\n",
       "    <tr>\n",
       "      <th>1</th>\n",
       "      <td>M</td>\n",
       "      <td>84.20</td>\n",
       "      <td>Central</td>\n",
       "      <td>69.40</td>\n",
       "      <td>Central</td>\n",
       "      <td>Science</td>\n",
       "      <td>65.00</td>\n",
       "      <td>Sci&amp;Tech</td>\n",
       "      <td>Yes</td>\n",
       "      <td>80.0</td>\n",
       "      <td>Mkt&amp;HR</td>\n",
       "      <td>52.72</td>\n",
       "      <td>255000.0</td>\n",
       "      <td>Placed</td>\n",
       "    </tr>\n",
       "    <tr>\n",
       "      <th>2</th>\n",
       "      <td>M</td>\n",
       "      <td>52.00</td>\n",
       "      <td>Others</td>\n",
       "      <td>55.00</td>\n",
       "      <td>Others</td>\n",
       "      <td>Commerce</td>\n",
       "      <td>56.30</td>\n",
       "      <td>Comm&amp;Mgmt</td>\n",
       "      <td>No</td>\n",
       "      <td>59.0</td>\n",
       "      <td>Mkt&amp;Fin</td>\n",
       "      <td>64.74</td>\n",
       "      <td>NaN</td>\n",
       "      <td>Not Placed</td>\n",
       "    </tr>\n",
       "    <tr>\n",
       "      <th>3</th>\n",
       "      <td>M</td>\n",
       "      <td>63.00</td>\n",
       "      <td>Central</td>\n",
       "      <td>60.00</td>\n",
       "      <td>Central</td>\n",
       "      <td>Commerce</td>\n",
       "      <td>57.00</td>\n",
       "      <td>Comm&amp;Mgmt</td>\n",
       "      <td>Yes</td>\n",
       "      <td>78.0</td>\n",
       "      <td>Mkt&amp;Fin</td>\n",
       "      <td>54.55</td>\n",
       "      <td>204000.0</td>\n",
       "      <td>Placed</td>\n",
       "    </tr>\n",
       "    <tr>\n",
       "      <th>4</th>\n",
       "      <td>F</td>\n",
       "      <td>60.23</td>\n",
       "      <td>Central</td>\n",
       "      <td>69.00</td>\n",
       "      <td>Central</td>\n",
       "      <td>Science</td>\n",
       "      <td>66.00</td>\n",
       "      <td>Comm&amp;Mgmt</td>\n",
       "      <td>No</td>\n",
       "      <td>72.0</td>\n",
       "      <td>Mkt&amp;Fin</td>\n",
       "      <td>59.47</td>\n",
       "      <td>230000.0</td>\n",
       "      <td>Placed</td>\n",
       "    </tr>\n",
       "  </tbody>\n",
       "</table>\n",
       "</div>"
      ],
      "text/plain": [
       "  gender  ssc_p    ssc_b  hsc_p    hsc_b     hsc_s  degree_p   degree_t  \\\n",
       "0      M  77.67   Others  64.89   Others  Commerce     70.67  Comm&Mgmt   \n",
       "1      M  84.20  Central  69.40  Central   Science     65.00   Sci&Tech   \n",
       "2      M  52.00   Others  55.00   Others  Commerce     56.30  Comm&Mgmt   \n",
       "3      M  63.00  Central  60.00  Central  Commerce     57.00  Comm&Mgmt   \n",
       "4      F  60.23  Central  69.00  Central   Science     66.00  Comm&Mgmt   \n",
       "\n",
       "  workex  etest_p specialisation  mba_p    salary      status  \n",
       "0     No     89.0        Mkt&Fin  60.39  300000.0      Placed  \n",
       "1    Yes     80.0         Mkt&HR  52.72  255000.0      Placed  \n",
       "2     No     59.0        Mkt&Fin  64.74       NaN  Not Placed  \n",
       "3    Yes     78.0        Mkt&Fin  54.55  204000.0      Placed  \n",
       "4     No     72.0        Mkt&Fin  59.47  230000.0      Placed  "
      ]
     },
     "execution_count": 1873,
     "metadata": {},
     "output_type": "execute_result"
    }
   ],
   "source": [
    "# Check del training set\n",
    "training_dataset.head()"
   ]
  },
  {
   "cell_type": "code",
   "execution_count": 1874,
   "id": "proprietary-magazine",
   "metadata": {},
   "outputs": [],
   "source": [
    "# Carico i dati dal csv relativo ai dati di test creato durante la fase di preparazione\n",
    "test_dataset = pd.read_csv('test.csv')"
   ]
  },
  {
   "cell_type": "code",
   "execution_count": 1875,
   "id": "significant-array",
   "metadata": {},
   "outputs": [
    {
     "data": {
      "text/html": [
       "<div>\n",
       "<style scoped>\n",
       "    .dataframe tbody tr th:only-of-type {\n",
       "        vertical-align: middle;\n",
       "    }\n",
       "\n",
       "    .dataframe tbody tr th {\n",
       "        vertical-align: top;\n",
       "    }\n",
       "\n",
       "    .dataframe thead th {\n",
       "        text-align: right;\n",
       "    }\n",
       "</style>\n",
       "<table border=\"1\" class=\"dataframe\">\n",
       "  <thead>\n",
       "    <tr style=\"text-align: right;\">\n",
       "      <th></th>\n",
       "      <th>gender</th>\n",
       "      <th>ssc_p</th>\n",
       "      <th>ssc_b</th>\n",
       "      <th>hsc_p</th>\n",
       "      <th>hsc_b</th>\n",
       "      <th>hsc_s</th>\n",
       "      <th>degree_p</th>\n",
       "      <th>degree_t</th>\n",
       "      <th>workex</th>\n",
       "      <th>etest_p</th>\n",
       "      <th>specialisation</th>\n",
       "      <th>mba_p</th>\n",
       "      <th>salary</th>\n",
       "      <th>status</th>\n",
       "    </tr>\n",
       "  </thead>\n",
       "  <tbody>\n",
       "    <tr>\n",
       "      <th>0</th>\n",
       "      <td>M</td>\n",
       "      <td>52.0</td>\n",
       "      <td>Others</td>\n",
       "      <td>50.0</td>\n",
       "      <td>Others</td>\n",
       "      <td>Arts</td>\n",
       "      <td>61.0</td>\n",
       "      <td>Comm&amp;Mgmt</td>\n",
       "      <td>No</td>\n",
       "      <td>60.0</td>\n",
       "      <td>Mkt&amp;Fin</td>\n",
       "      <td>58.52</td>\n",
       "      <td>NaN</td>\n",
       "      <td>Not Placed</td>\n",
       "    </tr>\n",
       "    <tr>\n",
       "      <th>1</th>\n",
       "      <td>M</td>\n",
       "      <td>78.5</td>\n",
       "      <td>Central</td>\n",
       "      <td>65.5</td>\n",
       "      <td>Central</td>\n",
       "      <td>Science</td>\n",
       "      <td>67.0</td>\n",
       "      <td>Sci&amp;Tech</td>\n",
       "      <td>Yes</td>\n",
       "      <td>95.0</td>\n",
       "      <td>Mkt&amp;Fin</td>\n",
       "      <td>64.86</td>\n",
       "      <td>280000.0</td>\n",
       "      <td>Placed</td>\n",
       "    </tr>\n",
       "    <tr>\n",
       "      <th>2</th>\n",
       "      <td>M</td>\n",
       "      <td>62.0</td>\n",
       "      <td>Central</td>\n",
       "      <td>72.0</td>\n",
       "      <td>Central</td>\n",
       "      <td>Commerce</td>\n",
       "      <td>65.0</td>\n",
       "      <td>Comm&amp;Mgmt</td>\n",
       "      <td>No</td>\n",
       "      <td>67.0</td>\n",
       "      <td>Mkt&amp;Fin</td>\n",
       "      <td>56.49</td>\n",
       "      <td>216000.0</td>\n",
       "      <td>Placed</td>\n",
       "    </tr>\n",
       "    <tr>\n",
       "      <th>3</th>\n",
       "      <td>M</td>\n",
       "      <td>51.0</td>\n",
       "      <td>Central</td>\n",
       "      <td>44.0</td>\n",
       "      <td>Central</td>\n",
       "      <td>Commerce</td>\n",
       "      <td>57.0</td>\n",
       "      <td>Comm&amp;Mgmt</td>\n",
       "      <td>No</td>\n",
       "      <td>64.0</td>\n",
       "      <td>Mkt&amp;Fin</td>\n",
       "      <td>51.45</td>\n",
       "      <td>NaN</td>\n",
       "      <td>Not Placed</td>\n",
       "    </tr>\n",
       "    <tr>\n",
       "      <th>4</th>\n",
       "      <td>F</td>\n",
       "      <td>55.0</td>\n",
       "      <td>Central</td>\n",
       "      <td>67.0</td>\n",
       "      <td>Central</td>\n",
       "      <td>Commerce</td>\n",
       "      <td>64.0</td>\n",
       "      <td>Comm&amp;Mgmt</td>\n",
       "      <td>No</td>\n",
       "      <td>60.0</td>\n",
       "      <td>Mkt&amp;Fin</td>\n",
       "      <td>67.28</td>\n",
       "      <td>NaN</td>\n",
       "      <td>Not Placed</td>\n",
       "    </tr>\n",
       "  </tbody>\n",
       "</table>\n",
       "</div>"
      ],
      "text/plain": [
       "  gender  ssc_p    ssc_b  hsc_p    hsc_b     hsc_s  degree_p   degree_t  \\\n",
       "0      M   52.0   Others   50.0   Others      Arts      61.0  Comm&Mgmt   \n",
       "1      M   78.5  Central   65.5  Central   Science      67.0   Sci&Tech   \n",
       "2      M   62.0  Central   72.0  Central  Commerce      65.0  Comm&Mgmt   \n",
       "3      M   51.0  Central   44.0  Central  Commerce      57.0  Comm&Mgmt   \n",
       "4      F   55.0  Central   67.0  Central  Commerce      64.0  Comm&Mgmt   \n",
       "\n",
       "  workex  etest_p specialisation  mba_p    salary      status  \n",
       "0     No     60.0        Mkt&Fin  58.52       NaN  Not Placed  \n",
       "1    Yes     95.0        Mkt&Fin  64.86  280000.0      Placed  \n",
       "2     No     67.0        Mkt&Fin  56.49  216000.0      Placed  \n",
       "3     No     64.0        Mkt&Fin  51.45       NaN  Not Placed  \n",
       "4     No     60.0        Mkt&Fin  67.28       NaN  Not Placed  "
      ]
     },
     "execution_count": 1875,
     "metadata": {},
     "output_type": "execute_result"
    }
   ],
   "source": [
    "# Check del training set\n",
    "test_dataset.head()"
   ]
  },
  {
   "cell_type": "markdown",
   "id": "fantastic-depth",
   "metadata": {},
   "source": [
    "## Data Cleaning"
   ]
  },
  {
   "cell_type": "code",
   "execution_count": 1876,
   "id": "female-mining",
   "metadata": {},
   "outputs": [],
   "source": [
    "# Elimino la feature 'Salary' da entrambi i dataset in quanto è un dato 'a posteriori': rappresenta le offerte fatte \n",
    "# dalle aziende solo per studenti che sono già \"placed\". Non è utile quindi per determinare se uno studente sarà effettivamente\n",
    "# assunto o meno\n",
    "del[training_dataset['salary']]\n",
    "del[test_dataset['salary']]"
   ]
  },
  {
   "cell_type": "code",
   "execution_count": 1877,
   "id": "portuguese-georgia",
   "metadata": {},
   "outputs": [],
   "source": [
    "# Label Encoding - trasformo le features categoriche in numeri\n",
    "training_category_columns = training_dataset.select_dtypes(include = 'object') "
   ]
  },
  {
   "cell_type": "code",
   "execution_count": 1878,
   "id": "instructional-karma",
   "metadata": {},
   "outputs": [],
   "source": [
    "training_number_columns = training_dataset.select_dtypes(include = np.number)  "
   ]
  },
  {
   "cell_type": "code",
   "execution_count": 1879,
   "id": "ordinary-singapore",
   "metadata": {},
   "outputs": [],
   "source": [
    "# Utilizzo il label encoder per potartare le feature categoriche a numeri\n",
    "encoder = LabelEncoder()\n",
    "\n",
    "for i in training_category_columns:\n",
    "    training_category_columns[i] = encoder.fit_transform(training_category_columns[i])"
   ]
  },
  {
   "cell_type": "code",
   "execution_count": 1880,
   "id": "emerging-charge",
   "metadata": {},
   "outputs": [],
   "source": [
    "# Stessa operazione per i dati di test\n",
    "test_category_columns = test_dataset.select_dtypes(include = 'object') "
   ]
  },
  {
   "cell_type": "code",
   "execution_count": 1881,
   "id": "olive-cricket",
   "metadata": {},
   "outputs": [],
   "source": [
    "test_number_columns = test_dataset.select_dtypes(include = np.number)"
   ]
  },
  {
   "cell_type": "code",
   "execution_count": 1882,
   "id": "brown-raising",
   "metadata": {},
   "outputs": [],
   "source": [
    "for i in test_category_columns:\n",
    "    test_category_columns[i] = encoder.fit_transform(test_category_columns[i])"
   ]
  },
  {
   "cell_type": "code",
   "execution_count": 1883,
   "id": "continent-brooks",
   "metadata": {},
   "outputs": [],
   "source": [
    "# Ricompongo i dataset con le feature pulite\n",
    "final_train = pd.concat([training_number_columns, training_category_columns], axis = 1)\n",
    "final_test = pd.concat([test_number_columns, test_category_columns], axis = 1)"
   ]
  },
  {
   "cell_type": "code",
   "execution_count": 1884,
   "id": "unusual-orientation",
   "metadata": {},
   "outputs": [],
   "source": [
    "# Definisco quali features sono del vettore d'input X e quale è la feature target Y\n",
    "Y_train, Y_test = final_train['status'], final_test['status']"
   ]
  },
  {
   "cell_type": "code",
   "execution_count": 1885,
   "id": "clear-worthy",
   "metadata": {},
   "outputs": [],
   "source": [
    "# Definisco le feature del vettore d'input X, su cui effettuare l'addestramento e le predizioni\n",
    "# A tal scopo è fondamentale eliminare la colonna relativa alla feature da predire!\n",
    "X_train, X_test = final_train.drop(columns=['status']), final_test.drop(columns=['status'])"
   ]
  },
  {
   "cell_type": "code",
   "execution_count": 1886,
   "id": "tribal-happening",
   "metadata": {},
   "outputs": [
    {
     "data": {
      "text/plain": [
       "0    1\n",
       "1    1\n",
       "2    0\n",
       "3    1\n",
       "4    1\n",
       "Name: status, dtype: int32"
      ]
     },
     "execution_count": 1886,
     "metadata": {},
     "output_type": "execute_result"
    }
   ],
   "source": [
    "# Check rapido dei vari dataset\n",
    "Y_train.head()"
   ]
  },
  {
   "cell_type": "code",
   "execution_count": 1887,
   "id": "retained-grave",
   "metadata": {},
   "outputs": [
    {
     "data": {
      "text/plain": [
       "0    0\n",
       "1    1\n",
       "2    1\n",
       "3    0\n",
       "4    0\n",
       "Name: status, dtype: int32"
      ]
     },
     "execution_count": 1887,
     "metadata": {},
     "output_type": "execute_result"
    }
   ],
   "source": [
    "Y_test.head()"
   ]
  },
  {
   "cell_type": "code",
   "execution_count": 1888,
   "id": "looking-statement",
   "metadata": {},
   "outputs": [
    {
     "data": {
      "text/html": [
       "<div>\n",
       "<style scoped>\n",
       "    .dataframe tbody tr th:only-of-type {\n",
       "        vertical-align: middle;\n",
       "    }\n",
       "\n",
       "    .dataframe tbody tr th {\n",
       "        vertical-align: top;\n",
       "    }\n",
       "\n",
       "    .dataframe thead th {\n",
       "        text-align: right;\n",
       "    }\n",
       "</style>\n",
       "<table border=\"1\" class=\"dataframe\">\n",
       "  <thead>\n",
       "    <tr style=\"text-align: right;\">\n",
       "      <th></th>\n",
       "      <th>ssc_p</th>\n",
       "      <th>hsc_p</th>\n",
       "      <th>degree_p</th>\n",
       "      <th>etest_p</th>\n",
       "      <th>mba_p</th>\n",
       "      <th>gender</th>\n",
       "      <th>ssc_b</th>\n",
       "      <th>hsc_b</th>\n",
       "      <th>hsc_s</th>\n",
       "      <th>degree_t</th>\n",
       "      <th>workex</th>\n",
       "      <th>specialisation</th>\n",
       "    </tr>\n",
       "  </thead>\n",
       "  <tbody>\n",
       "    <tr>\n",
       "      <th>0</th>\n",
       "      <td>77.67</td>\n",
       "      <td>64.89</td>\n",
       "      <td>70.67</td>\n",
       "      <td>89.0</td>\n",
       "      <td>60.39</td>\n",
       "      <td>1</td>\n",
       "      <td>1</td>\n",
       "      <td>1</td>\n",
       "      <td>1</td>\n",
       "      <td>0</td>\n",
       "      <td>0</td>\n",
       "      <td>0</td>\n",
       "    </tr>\n",
       "    <tr>\n",
       "      <th>1</th>\n",
       "      <td>84.20</td>\n",
       "      <td>69.40</td>\n",
       "      <td>65.00</td>\n",
       "      <td>80.0</td>\n",
       "      <td>52.72</td>\n",
       "      <td>1</td>\n",
       "      <td>0</td>\n",
       "      <td>0</td>\n",
       "      <td>2</td>\n",
       "      <td>2</td>\n",
       "      <td>1</td>\n",
       "      <td>1</td>\n",
       "    </tr>\n",
       "    <tr>\n",
       "      <th>2</th>\n",
       "      <td>52.00</td>\n",
       "      <td>55.00</td>\n",
       "      <td>56.30</td>\n",
       "      <td>59.0</td>\n",
       "      <td>64.74</td>\n",
       "      <td>1</td>\n",
       "      <td>1</td>\n",
       "      <td>1</td>\n",
       "      <td>1</td>\n",
       "      <td>0</td>\n",
       "      <td>0</td>\n",
       "      <td>0</td>\n",
       "    </tr>\n",
       "    <tr>\n",
       "      <th>3</th>\n",
       "      <td>63.00</td>\n",
       "      <td>60.00</td>\n",
       "      <td>57.00</td>\n",
       "      <td>78.0</td>\n",
       "      <td>54.55</td>\n",
       "      <td>1</td>\n",
       "      <td>0</td>\n",
       "      <td>0</td>\n",
       "      <td>1</td>\n",
       "      <td>0</td>\n",
       "      <td>1</td>\n",
       "      <td>0</td>\n",
       "    </tr>\n",
       "    <tr>\n",
       "      <th>4</th>\n",
       "      <td>60.23</td>\n",
       "      <td>69.00</td>\n",
       "      <td>66.00</td>\n",
       "      <td>72.0</td>\n",
       "      <td>59.47</td>\n",
       "      <td>0</td>\n",
       "      <td>0</td>\n",
       "      <td>0</td>\n",
       "      <td>2</td>\n",
       "      <td>0</td>\n",
       "      <td>0</td>\n",
       "      <td>0</td>\n",
       "    </tr>\n",
       "  </tbody>\n",
       "</table>\n",
       "</div>"
      ],
      "text/plain": [
       "   ssc_p  hsc_p  degree_p  etest_p  mba_p  gender  ssc_b  hsc_b  hsc_s  \\\n",
       "0  77.67  64.89     70.67     89.0  60.39       1      1      1      1   \n",
       "1  84.20  69.40     65.00     80.0  52.72       1      0      0      2   \n",
       "2  52.00  55.00     56.30     59.0  64.74       1      1      1      1   \n",
       "3  63.00  60.00     57.00     78.0  54.55       1      0      0      1   \n",
       "4  60.23  69.00     66.00     72.0  59.47       0      0      0      2   \n",
       "\n",
       "   degree_t  workex  specialisation  \n",
       "0         0       0               0  \n",
       "1         2       1               1  \n",
       "2         0       0               0  \n",
       "3         0       1               0  \n",
       "4         0       0               0  "
      ]
     },
     "execution_count": 1888,
     "metadata": {},
     "output_type": "execute_result"
    }
   ],
   "source": [
    "X_train.head()"
   ]
  },
  {
   "cell_type": "code",
   "execution_count": 1889,
   "id": "painful-sheriff",
   "metadata": {},
   "outputs": [
    {
     "data": {
      "text/html": [
       "<div>\n",
       "<style scoped>\n",
       "    .dataframe tbody tr th:only-of-type {\n",
       "        vertical-align: middle;\n",
       "    }\n",
       "\n",
       "    .dataframe tbody tr th {\n",
       "        vertical-align: top;\n",
       "    }\n",
       "\n",
       "    .dataframe thead th {\n",
       "        text-align: right;\n",
       "    }\n",
       "</style>\n",
       "<table border=\"1\" class=\"dataframe\">\n",
       "  <thead>\n",
       "    <tr style=\"text-align: right;\">\n",
       "      <th></th>\n",
       "      <th>ssc_p</th>\n",
       "      <th>hsc_p</th>\n",
       "      <th>degree_p</th>\n",
       "      <th>etest_p</th>\n",
       "      <th>mba_p</th>\n",
       "      <th>gender</th>\n",
       "      <th>ssc_b</th>\n",
       "      <th>hsc_b</th>\n",
       "      <th>hsc_s</th>\n",
       "      <th>degree_t</th>\n",
       "      <th>workex</th>\n",
       "      <th>specialisation</th>\n",
       "    </tr>\n",
       "  </thead>\n",
       "  <tbody>\n",
       "    <tr>\n",
       "      <th>0</th>\n",
       "      <td>52.0</td>\n",
       "      <td>50.0</td>\n",
       "      <td>61.0</td>\n",
       "      <td>60.0</td>\n",
       "      <td>58.52</td>\n",
       "      <td>1</td>\n",
       "      <td>1</td>\n",
       "      <td>1</td>\n",
       "      <td>0</td>\n",
       "      <td>0</td>\n",
       "      <td>0</td>\n",
       "      <td>0</td>\n",
       "    </tr>\n",
       "    <tr>\n",
       "      <th>1</th>\n",
       "      <td>78.5</td>\n",
       "      <td>65.5</td>\n",
       "      <td>67.0</td>\n",
       "      <td>95.0</td>\n",
       "      <td>64.86</td>\n",
       "      <td>1</td>\n",
       "      <td>0</td>\n",
       "      <td>0</td>\n",
       "      <td>2</td>\n",
       "      <td>2</td>\n",
       "      <td>1</td>\n",
       "      <td>0</td>\n",
       "    </tr>\n",
       "    <tr>\n",
       "      <th>2</th>\n",
       "      <td>62.0</td>\n",
       "      <td>72.0</td>\n",
       "      <td>65.0</td>\n",
       "      <td>67.0</td>\n",
       "      <td>56.49</td>\n",
       "      <td>1</td>\n",
       "      <td>0</td>\n",
       "      <td>0</td>\n",
       "      <td>1</td>\n",
       "      <td>0</td>\n",
       "      <td>0</td>\n",
       "      <td>0</td>\n",
       "    </tr>\n",
       "    <tr>\n",
       "      <th>3</th>\n",
       "      <td>51.0</td>\n",
       "      <td>44.0</td>\n",
       "      <td>57.0</td>\n",
       "      <td>64.0</td>\n",
       "      <td>51.45</td>\n",
       "      <td>1</td>\n",
       "      <td>0</td>\n",
       "      <td>0</td>\n",
       "      <td>1</td>\n",
       "      <td>0</td>\n",
       "      <td>0</td>\n",
       "      <td>0</td>\n",
       "    </tr>\n",
       "    <tr>\n",
       "      <th>4</th>\n",
       "      <td>55.0</td>\n",
       "      <td>67.0</td>\n",
       "      <td>64.0</td>\n",
       "      <td>60.0</td>\n",
       "      <td>67.28</td>\n",
       "      <td>0</td>\n",
       "      <td>0</td>\n",
       "      <td>0</td>\n",
       "      <td>1</td>\n",
       "      <td>0</td>\n",
       "      <td>0</td>\n",
       "      <td>0</td>\n",
       "    </tr>\n",
       "  </tbody>\n",
       "</table>\n",
       "</div>"
      ],
      "text/plain": [
       "   ssc_p  hsc_p  degree_p  etest_p  mba_p  gender  ssc_b  hsc_b  hsc_s  \\\n",
       "0   52.0   50.0      61.0     60.0  58.52       1      1      1      0   \n",
       "1   78.5   65.5      67.0     95.0  64.86       1      0      0      2   \n",
       "2   62.0   72.0      65.0     67.0  56.49       1      0      0      1   \n",
       "3   51.0   44.0      57.0     64.0  51.45       1      0      0      1   \n",
       "4   55.0   67.0      64.0     60.0  67.28       0      0      0      1   \n",
       "\n",
       "   degree_t  workex  specialisation  \n",
       "0         0       0               0  \n",
       "1         2       1               0  \n",
       "2         0       0               0  \n",
       "3         0       0               0  \n",
       "4         0       0               0  "
      ]
     },
     "execution_count": 1889,
     "metadata": {},
     "output_type": "execute_result"
    }
   ],
   "source": [
    "X_test.head()"
   ]
  },
  {
   "cell_type": "markdown",
   "id": "twelve-solomon",
   "metadata": {},
   "source": [
    "## Model Training"
   ]
  },
  {
   "cell_type": "code",
   "execution_count": 1890,
   "id": "supported-realtor",
   "metadata": {},
   "outputs": [],
   "source": [
    "# Ho scelto di utilizzare un LogistiRegressor data la presenza di feature continue nel dataset (le varie votazioni).\n",
    "# Infine, ho scelto il solver liblinear in quanto è quello indicato per piccoli dataset, come questo.\n",
    "model = LogisticRegression(solver='liblinear')"
   ]
  },
  {
   "cell_type": "code",
   "execution_count": 1891,
   "id": "amateur-orbit",
   "metadata": {},
   "outputs": [
    {
     "data": {
      "text/plain": [
       "LogisticRegression(solver='liblinear')"
      ]
     },
     "execution_count": 1891,
     "metadata": {},
     "output_type": "execute_result"
    }
   ],
   "source": [
    "# Addestro il modello con i dati di training\n",
    "model.fit(X_train, Y_train)"
   ]
  },
  {
   "cell_type": "code",
   "execution_count": 1892,
   "id": "warming-restoration",
   "metadata": {},
   "outputs": [],
   "source": [
    "# Utilizzo il modello addestrato per effettuare delle predizioni sui dati di train \n",
    "predictions_on_training = model.predict(X_train)"
   ]
  },
  {
   "cell_type": "code",
   "execution_count": 1893,
   "id": "accredited-silence",
   "metadata": {},
   "outputs": [
    {
     "name": "stdout",
     "output_type": "stream",
     "text": [
      "Accuracy : 0.8759124087591241\n"
     ]
    }
   ],
   "source": [
    "# Controllo l'accuratezza sui dati di training \n",
    "print(\"Accuracy : \"+str(accuracy_score(Y_train, predictions_on_training)))"
   ]
  },
  {
   "cell_type": "code",
   "execution_count": 1894,
   "id": "electrical-lebanon",
   "metadata": {},
   "outputs": [],
   "source": [
    "# Utilizzo il modello addestrato per effettuare predizioni sui dati di test \n",
    "predictions_on_test = model.predict(X_test)"
   ]
  },
  {
   "cell_type": "markdown",
   "id": "supported-actress",
   "metadata": {},
   "source": [
    "## Model Assessment"
   ]
  },
  {
   "cell_type": "code",
   "execution_count": 1895,
   "id": "variable-alarm",
   "metadata": {},
   "outputs": [],
   "source": [
    "# Importo i moduli necessari per la valutazione del classificatore\n",
    "from sklearn.metrics import confusion_matrix\n",
    "from sklearn.metrics import classification_report"
   ]
  },
  {
   "cell_type": "code",
   "execution_count": 1896,
   "id": "natural-bumper",
   "metadata": {},
   "outputs": [
    {
     "name": "stdout",
     "output_type": "stream",
     "text": [
      "Accuracy : 0.9142857142857143\n"
     ]
    }
   ],
   "source": [
    "# Stampo l'accuratezza del classificatore sui dati di test\n",
    "print(\"Accuracy : \" + str(accuracy_score(Y_test, predictions_on_test)))"
   ]
  },
  {
   "cell_type": "code",
   "execution_count": 1897,
   "id": "stable-particular",
   "metadata": {},
   "outputs": [
    {
     "name": "stdout",
     "output_type": "stream",
     "text": [
      "[[10  3]\n",
      " [ 0 22]]\n"
     ]
    }
   ],
   "source": [
    "# Stampo la matrice di confusione, per verificare l'accuratezza circa i valori predetti\n",
    "print(confusion_matrix(Y_test, predictions_on_test))"
   ]
  },
  {
   "cell_type": "code",
   "execution_count": 1898,
   "id": "fitting-conflict",
   "metadata": {},
   "outputs": [
    {
     "name": "stdout",
     "output_type": "stream",
     "text": [
      "              precision    recall  f1-score   support\n",
      "\n",
      "           0       1.00      0.77      0.87        13\n",
      "           1       0.88      1.00      0.94        22\n",
      "\n",
      "    accuracy                           0.91        35\n",
      "   macro avg       0.94      0.88      0.90        35\n",
      "weighted avg       0.92      0.91      0.91        35\n",
      "\n"
     ]
    }
   ],
   "source": [
    "# Stampo le principali metriche di classificazione\n",
    "print(classification_report(Y_test, predictions_on_test))"
   ]
  }
 ],
 "metadata": {
  "kernelspec": {
   "display_name": "Python 3",
   "language": "python",
   "name": "python3"
  },
  "language_info": {
   "codemirror_mode": {
    "name": "ipython",
    "version": 3
   },
   "file_extension": ".py",
   "mimetype": "text/x-python",
   "name": "python",
   "nbconvert_exporter": "python",
   "pygments_lexer": "ipython3",
   "version": "3.8.2"
  }
 },
 "nbformat": 4,
 "nbformat_minor": 5
}
